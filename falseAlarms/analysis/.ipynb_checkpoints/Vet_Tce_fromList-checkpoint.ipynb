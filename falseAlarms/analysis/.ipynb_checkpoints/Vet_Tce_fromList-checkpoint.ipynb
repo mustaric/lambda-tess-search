{
 "cells": [
  {
   "cell_type": "markdown",
   "id": "da3f90d7-3a8e-4e52-8615-fd5338a4b45e",
   "metadata": {},
   "source": [
    "## use Exovetter to vet a TCE from the false alarm run.\n"
   ]
  },
  {
   "cell_type": "code",
   "execution_count": 15,
   "id": "60ce99c8-943b-4f23-a809-fef6084ef599",
   "metadata": {},
   "outputs": [],
   "source": [
    "import matplotlib.pyplot as plt\n",
    "import numpy as np\n",
    "import pandas as p\n",
    "import exovetter\n",
    "from exovetter.tce import Tce\n",
    "from exovetter import const \n",
    "import astropy.units as u\n",
    "import lightkurve as lk\n",
    "import corazon as crz\n",
    "import exovetter.vetters as vet"
   ]
  },
  {
   "cell_type": "code",
   "execution_count": 2,
   "id": "ff0faf06-d23a-4adb-9d1c-0e791be8901d",
   "metadata": {},
   "outputs": [],
   "source": [
    "#Useful functions"
   ]
  },
  {
   "cell_type": "code",
   "execution_count": 22,
   "id": "99c2f6aa-f938-4279-ad02-bc7c1fc1ec9c",
   "metadata": {},
   "outputs": [],
   "source": [
    "def make_tce(adf):\n",
    "    \n",
    "    atce = Tce(period = adf['period'] * u.day,\n",
    "               epoch = adf['epoch'] *u.day,\n",
    "               epoch_offset = 0 * u.day,\n",
    "               duration=adf['dur'] * u.hr, \n",
    "               depth=adf['depth'] * const.ppm,\n",
    "               snr = adf['snr'])\n",
    "    \n",
    "    return atce\n",
    "\n",
    "\n",
    "def vet_tce(tce, lc, tpf):\n",
    "    \"\"\"Pull up plots of the full and folded light curve.\n",
    "        There are all plot from exovetter\n",
    "    \"\"\"\n",
    "\n",
    "    oe = vet.OddEven()\n",
    "    oddeven = oe.run(tce,lc)\n",
    "    oe.plot()\n",
    "    \n",
    "    tc = vet.TransitPhaseCoverage()\n",
    "    tpc = tc.run(tce,lc)\n",
    "    #tc.plot()\n",
    "    \n",
    "    mod = vet.ModShift()\n",
    "    modshift = mod.run(tce, lc)\n",
    "    mod.plot()\n",
    "    \n",
    "    sweet = vet.Sweet()\n",
    "    sweetvet = sweet.run(tce,lc)\n",
    "    sweet.plot()\n",
    "    \n",
    "    \n",
    "    cent = vet.Centroid()\n",
    "    centvet = cent.run(tce, tpf, plot=True)\n",
    "    \n",
    "    return oddeven, tpc, modshift, sweetvet, centvet\n",
    "\n",
    "def get_lk(tcedf, author = \"qlp\", mission = \"TESS\", size = 11):\n",
    "    \"\"\"Returns lc and tpf given a dataframe line\"\"\"\n",
    "    \n",
    "    ticid = tcedf['tic'][4:]\n",
    "    sector = tcedf['sector']\n",
    "    \n",
    "    lc = crz.gen_lightcurve.hlsp(ticid, sector, author=author)\n",
    "    tpf = lk.search_tesscut(f\"TIC {ticid}\", sector = sector).download(cutout_size = size)\n",
    "    \n",
    "    return lc, tpf"
   ]
  },
  {
   "cell_type": "code",
   "execution_count": 23,
   "id": "b6b73519-28df-4ddf-a4ac-e2fcb70a7153",
   "metadata": {},
   "outputs": [],
   "source": [
    "#Get list of TCEs we could vet from teh summary file found in the top level directory\n",
    "qlp_tces = \"/Users/smullally/Science/tess_false_alarms/vet_results/joe_mar_2021/second-dataset/qlp_ebplanets_tcesum.csv\"\n",
    "col_names = [\"tic\",\"pn\",\"sector\",\"period\",\"epoch\",\"depth\",\"dur\",\"snr\",\"disp\",\"reason\"]\n",
    "qlp_df = p.read_csv(qlp_tces, names=col_names)"
   ]
  },
  {
   "cell_type": "code",
   "execution_count": 24,
   "id": "ed91930d-ec50-4f70-bf7d-ecc95a137ed2",
   "metadata": {},
   "outputs": [
    {
     "name": "stdout",
     "output_type": "stream",
     "text": [
      "              tic  pn  sector  period      epoch       depth  dur   snr  \\\n",
      "48  TIC 120251825   1      14  1.5098  1683.7183  748209.592  2.0  3.60   \n",
      "49  TIC 120251825   2      14  1.5098  1684.4683  767513.015  2.0  7.03   \n",
      "50  TIC 120251825   3      14  1.5091  1683.7183  278923.956  4.0  3.52   \n",
      "51  TIC 120251825   4      14  1.5099  1684.4683  288421.492  4.0  8.39   \n",
      "52  TIC 120251825   5      14  1.5115  1683.7058   68732.130  4.0  6.36   \n",
      "53  TIC 120251825   6      14  1.3941  1684.4745    6044.676  8.0  0.59   \n",
      "\n",
      "     disp                                    reason  \n",
      "48   FAIL   -NormLPP--SWEETHalfPeriod-SWEETAtPeriod  \n",
      "49   FAIL   -NormLPP--SWEETHalfPeriod-SWEETAtPeriod  \n",
      "50   FAIL   -NormLPP--SWEETHalfPeriod-SWEETAtPeriod  \n",
      "51   FAIL   -NormLPP--SWEETHalfPeriod-SWEETAtPeriod  \n",
      "52   FAIL   -NormLPP--SWEETHalfPeriod-SWEETAtPeriod  \n",
      "53   FAIL                         -LowSNR--NormLPP-  \n"
     ]
    },
    {
     "ename": "HTTPError",
     "evalue": "The TESS FFI cutout service at MAST appears to be temporarily unavailable. It returned the following error: 504 Server Error: Gateway Time-out for url: https://mast.stsci.edu/tesscut/api/v0.1/sector",
     "output_type": "error",
     "traceback": [
      "\u001b[0;31m---------------------------------------------------------------------------\u001b[0m",
      "\u001b[0;31mHTTPError\u001b[0m                                 Traceback (most recent call last)",
      "\u001b[0;32m~/miniconda3/envs/exovetter/lib/python3.7/site-packages/lightkurve/search.py\u001b[0m in \u001b[0;36m_download_one\u001b[0;34m(self, table, quality_bitmask, download_dir, cutout_size, **kwargs)\u001b[0m\n\u001b[1;32m    234\u001b[0m                     \u001b[0mdownload_dir\u001b[0m\u001b[0;34m,\u001b[0m\u001b[0;34m\u001b[0m\u001b[0;34m\u001b[0m\u001b[0m\n\u001b[0;32m--> 235\u001b[0;31m                     \u001b[0mcutout_size\u001b[0m\u001b[0;34m,\u001b[0m\u001b[0;34m\u001b[0m\u001b[0;34m\u001b[0m\u001b[0m\n\u001b[0m\u001b[1;32m    236\u001b[0m                 )\n",
      "\u001b[0;32m~/miniconda3/envs/exovetter/lib/python3.7/site-packages/lightkurve/search.py\u001b[0m in \u001b[0;36m_fetch_tesscut_path\u001b[0;34m(self, target, sector, download_dir, cutout_size)\u001b[0m\n\u001b[1;32m    505\u001b[0m         \u001b[0;31m# this is necessary to ensure cutouts are not downloaded multiple times\u001b[0m\u001b[0;34m\u001b[0m\u001b[0;34m\u001b[0m\u001b[0;34m\u001b[0m\u001b[0m\n\u001b[0;32m--> 506\u001b[0;31m         \u001b[0msec\u001b[0m \u001b[0;34m=\u001b[0m \u001b[0mTesscutClass\u001b[0m\u001b[0;34m(\u001b[0m\u001b[0;34m)\u001b[0m\u001b[0;34m.\u001b[0m\u001b[0mget_sectors\u001b[0m\u001b[0;34m(\u001b[0m\u001b[0mcoords\u001b[0m\u001b[0;34m)\u001b[0m\u001b[0;34m\u001b[0m\u001b[0;34m\u001b[0m\u001b[0m\n\u001b[0m\u001b[1;32m    507\u001b[0m         \u001b[0msector_name\u001b[0m \u001b[0;34m=\u001b[0m \u001b[0msec\u001b[0m\u001b[0;34m[\u001b[0m\u001b[0msec\u001b[0m\u001b[0;34m[\u001b[0m\u001b[0;34m\"sector\"\u001b[0m\u001b[0;34m]\u001b[0m \u001b[0;34m==\u001b[0m \u001b[0msector\u001b[0m\u001b[0;34m]\u001b[0m\u001b[0;34m[\u001b[0m\u001b[0;34m\"sectorName\"\u001b[0m\u001b[0;34m]\u001b[0m\u001b[0;34m[\u001b[0m\u001b[0;36m0\u001b[0m\u001b[0;34m]\u001b[0m\u001b[0;34m\u001b[0m\u001b[0;34m\u001b[0m\u001b[0m\n",
      "\u001b[0;32m~/miniconda3/envs/exovetter/lib/python3.7/site-packages/astroquery/mast/cutouts.py\u001b[0m in \u001b[0;36mget_sectors\u001b[0;34m(self, coordinates, radius, objectname)\u001b[0m\n\u001b[1;32m    147\u001b[0m \u001b[0;34m\u001b[0m\u001b[0m\n\u001b[0;32m--> 148\u001b[0;31m         \u001b[0mresponse\u001b[0m \u001b[0;34m=\u001b[0m \u001b[0mself\u001b[0m\u001b[0;34m.\u001b[0m\u001b[0m_service_api_connection\u001b[0m\u001b[0;34m.\u001b[0m\u001b[0mservice_request_async\u001b[0m\u001b[0;34m(\u001b[0m\u001b[0;34m\"sector\"\u001b[0m\u001b[0;34m,\u001b[0m \u001b[0mparams\u001b[0m\u001b[0;34m)\u001b[0m\u001b[0;34m\u001b[0m\u001b[0;34m\u001b[0m\u001b[0m\n\u001b[0m\u001b[1;32m    149\u001b[0m         \u001b[0mresponse\u001b[0m\u001b[0;34m.\u001b[0m\u001b[0mraise_for_status\u001b[0m\u001b[0;34m(\u001b[0m\u001b[0;34m)\u001b[0m  \u001b[0;31m# Raise any errors\u001b[0m\u001b[0;34m\u001b[0m\u001b[0;34m\u001b[0m\u001b[0m\n",
      "\u001b[0;32m~/miniconda3/envs/exovetter/lib/python3.7/site-packages/astroquery/utils/class_or_instance.py\u001b[0m in \u001b[0;36mf\u001b[0;34m(*args, **kwds)\u001b[0m\n\u001b[1;32m     24\u001b[0m             \u001b[0;32mif\u001b[0m \u001b[0mobj\u001b[0m \u001b[0;32mis\u001b[0m \u001b[0;32mnot\u001b[0m \u001b[0;32mNone\u001b[0m\u001b[0;34m:\u001b[0m\u001b[0;34m\u001b[0m\u001b[0;34m\u001b[0m\u001b[0m\n\u001b[0;32m---> 25\u001b[0;31m                 \u001b[0;32mreturn\u001b[0m \u001b[0mself\u001b[0m\u001b[0;34m.\u001b[0m\u001b[0mfn\u001b[0m\u001b[0;34m(\u001b[0m\u001b[0mobj\u001b[0m\u001b[0;34m,\u001b[0m \u001b[0;34m*\u001b[0m\u001b[0margs\u001b[0m\u001b[0;34m,\u001b[0m \u001b[0;34m**\u001b[0m\u001b[0mkwds\u001b[0m\u001b[0;34m)\u001b[0m\u001b[0;34m\u001b[0m\u001b[0;34m\u001b[0m\u001b[0m\n\u001b[0m\u001b[1;32m     26\u001b[0m             \u001b[0;32melse\u001b[0m\u001b[0;34m:\u001b[0m\u001b[0;34m\u001b[0m\u001b[0;34m\u001b[0m\u001b[0m\n",
      "\u001b[0;32m~/miniconda3/envs/exovetter/lib/python3.7/site-packages/astroquery/mast/services.py\u001b[0m in \u001b[0;36mservice_request_async\u001b[0;34m(self, service, params, page_size, page, **kwargs)\u001b[0m\n\u001b[1;32m    270\u001b[0m         \u001b[0mcatalogs_request\u001b[0m\u001b[0;34m.\u001b[0m\u001b[0mextend\u001b[0m\u001b[0;34m(\u001b[0m\u001b[0mself\u001b[0m\u001b[0;34m.\u001b[0m\u001b[0m_build_catalogs_params\u001b[0m\u001b[0;34m(\u001b[0m\u001b[0mparams\u001b[0m\u001b[0;34m)\u001b[0m\u001b[0;34m)\u001b[0m\u001b[0;34m\u001b[0m\u001b[0;34m\u001b[0m\u001b[0m\n\u001b[0;32m--> 271\u001b[0;31m         \u001b[0mresponse\u001b[0m \u001b[0;34m=\u001b[0m \u001b[0mself\u001b[0m\u001b[0;34m.\u001b[0m\u001b[0m_request\u001b[0m\u001b[0;34m(\u001b[0m\u001b[0;34m'POST'\u001b[0m\u001b[0;34m,\u001b[0m \u001b[0mrequest_url\u001b[0m\u001b[0;34m,\u001b[0m \u001b[0mdata\u001b[0m\u001b[0;34m=\u001b[0m\u001b[0mcatalogs_request\u001b[0m\u001b[0;34m,\u001b[0m \u001b[0mheaders\u001b[0m\u001b[0;34m=\u001b[0m\u001b[0mheaders\u001b[0m\u001b[0;34m)\u001b[0m\u001b[0;34m\u001b[0m\u001b[0;34m\u001b[0m\u001b[0m\n\u001b[0m\u001b[1;32m    272\u001b[0m         \u001b[0;32mreturn\u001b[0m \u001b[0mresponse\u001b[0m\u001b[0;34m\u001b[0m\u001b[0;34m\u001b[0m\u001b[0m\n",
      "\u001b[0;32m~/miniconda3/envs/exovetter/lib/python3.7/site-packages/astroquery/mast/services.py\u001b[0m in \u001b[0;36m_request\u001b[0;34m(self, method, url, params, data, headers, files, stream, auth, cache)\u001b[0m\n\u001b[1;32m    180\u001b[0m \u001b[0;34m\u001b[0m\u001b[0m\n\u001b[0;32m--> 181\u001b[0;31m         \u001b[0mresponse\u001b[0m\u001b[0;34m.\u001b[0m\u001b[0mraise_for_status\u001b[0m\u001b[0;34m(\u001b[0m\u001b[0;34m)\u001b[0m\u001b[0;34m\u001b[0m\u001b[0;34m\u001b[0m\u001b[0m\n\u001b[0m\u001b[1;32m    182\u001b[0m         \u001b[0;32mreturn\u001b[0m \u001b[0mresponse\u001b[0m\u001b[0;34m\u001b[0m\u001b[0;34m\u001b[0m\u001b[0m\n",
      "\u001b[0;32m~/.local/lib/python3.7/site-packages/requests/models.py\u001b[0m in \u001b[0;36mraise_for_status\u001b[0;34m(self)\u001b[0m\n\u001b[1;32m    939\u001b[0m         \u001b[0;32mif\u001b[0m \u001b[0mhttp_error_msg\u001b[0m\u001b[0;34m:\u001b[0m\u001b[0;34m\u001b[0m\u001b[0;34m\u001b[0m\u001b[0m\n\u001b[0;32m--> 940\u001b[0;31m             \u001b[0;32mraise\u001b[0m \u001b[0mHTTPError\u001b[0m\u001b[0;34m(\u001b[0m\u001b[0mhttp_error_msg\u001b[0m\u001b[0;34m,\u001b[0m \u001b[0mresponse\u001b[0m\u001b[0;34m=\u001b[0m\u001b[0mself\u001b[0m\u001b[0;34m)\u001b[0m\u001b[0;34m\u001b[0m\u001b[0;34m\u001b[0m\u001b[0m\n\u001b[0m\u001b[1;32m    941\u001b[0m \u001b[0;34m\u001b[0m\u001b[0m\n",
      "\u001b[0;31mHTTPError\u001b[0m: 504 Server Error: Gateway Time-out for url: https://mast.stsci.edu/tesscut/api/v0.1/sector",
      "\nDuring handling of the above exception, another exception occurred:\n",
      "\u001b[0;31mHTTPError\u001b[0m                                 Traceback (most recent call last)",
      "\u001b[0;32m<ipython-input-24-a8823da58f8a>\u001b[0m in \u001b[0;36m<module>\u001b[0;34m\u001b[0m\n\u001b[1;32m      4\u001b[0m \u001b[0mtcedf\u001b[0m \u001b[0;34m=\u001b[0m \u001b[0mqlp_df\u001b[0m\u001b[0;34m.\u001b[0m\u001b[0mquery\u001b[0m\u001b[0;34m(\u001b[0m\u001b[0;34m'tic == @ticid & sector == @sector'\u001b[0m\u001b[0;34m)\u001b[0m\u001b[0;34m\u001b[0m\u001b[0;34m\u001b[0m\u001b[0m\n\u001b[1;32m      5\u001b[0m \u001b[0mprint\u001b[0m\u001b[0;34m(\u001b[0m\u001b[0mtcedf\u001b[0m\u001b[0;34m)\u001b[0m\u001b[0;34m\u001b[0m\u001b[0;34m\u001b[0m\u001b[0m\n\u001b[0;32m----> 6\u001b[0;31m \u001b[0malc\u001b[0m\u001b[0;34m,\u001b[0m \u001b[0matpf\u001b[0m \u001b[0;34m=\u001b[0m \u001b[0mget_lk\u001b[0m\u001b[0;34m(\u001b[0m\u001b[0mtcedf\u001b[0m\u001b[0;34m.\u001b[0m\u001b[0miloc\u001b[0m\u001b[0;34m[\u001b[0m\u001b[0;36m0\u001b[0m\u001b[0;34m]\u001b[0m\u001b[0;34m)\u001b[0m\u001b[0;34m\u001b[0m\u001b[0;34m\u001b[0m\u001b[0m\n\u001b[0m",
      "\u001b[0;32m<ipython-input-22-9bf72eabf296>\u001b[0m in \u001b[0;36mget_lk\u001b[0;34m(tcedf, author, mission, size)\u001b[0m\n\u001b[1;32m     45\u001b[0m \u001b[0;34m\u001b[0m\u001b[0m\n\u001b[1;32m     46\u001b[0m     \u001b[0mlc\u001b[0m \u001b[0;34m=\u001b[0m \u001b[0mcrz\u001b[0m\u001b[0;34m.\u001b[0m\u001b[0mgen_lightcurve\u001b[0m\u001b[0;34m.\u001b[0m\u001b[0mhlsp\u001b[0m\u001b[0;34m(\u001b[0m\u001b[0mticid\u001b[0m\u001b[0;34m,\u001b[0m \u001b[0msector\u001b[0m\u001b[0;34m,\u001b[0m \u001b[0mauthor\u001b[0m\u001b[0;34m=\u001b[0m\u001b[0mauthor\u001b[0m\u001b[0;34m)\u001b[0m\u001b[0;34m\u001b[0m\u001b[0;34m\u001b[0m\u001b[0m\n\u001b[0;32m---> 47\u001b[0;31m     \u001b[0mtpf\u001b[0m \u001b[0;34m=\u001b[0m \u001b[0mlk\u001b[0m\u001b[0;34m.\u001b[0m\u001b[0msearch_tesscut\u001b[0m\u001b[0;34m(\u001b[0m\u001b[0;34mf\"TIC {ticid}\"\u001b[0m\u001b[0;34m,\u001b[0m \u001b[0msector\u001b[0m \u001b[0;34m=\u001b[0m \u001b[0msector\u001b[0m\u001b[0;34m)\u001b[0m\u001b[0;34m.\u001b[0m\u001b[0mdownload\u001b[0m\u001b[0;34m(\u001b[0m\u001b[0mcutout_size\u001b[0m \u001b[0;34m=\u001b[0m \u001b[0msize\u001b[0m\u001b[0;34m)\u001b[0m\u001b[0;34m\u001b[0m\u001b[0;34m\u001b[0m\u001b[0m\n\u001b[0m\u001b[1;32m     48\u001b[0m \u001b[0;34m\u001b[0m\u001b[0m\n\u001b[1;32m     49\u001b[0m     \u001b[0;32mreturn\u001b[0m \u001b[0mlc\u001b[0m\u001b[0;34m,\u001b[0m \u001b[0mtpf\u001b[0m\u001b[0;34m\u001b[0m\u001b[0;34m\u001b[0m\u001b[0m\n",
      "\u001b[0;32m~/miniconda3/envs/exovetter/lib/python3.7/site-packages/lightkurve/utils.py\u001b[0m in \u001b[0;36mwrapper\u001b[0;34m(*args, **kwargs)\u001b[0m\n\u001b[1;32m    553\u001b[0m             \u001b[0msys\u001b[0m\u001b[0;34m.\u001b[0m\u001b[0mstdout\u001b[0m \u001b[0;34m=\u001b[0m \u001b[0mdevnull\u001b[0m\u001b[0;34m\u001b[0m\u001b[0;34m\u001b[0m\u001b[0m\n\u001b[1;32m    554\u001b[0m             \u001b[0;32mtry\u001b[0m\u001b[0;34m:\u001b[0m\u001b[0;34m\u001b[0m\u001b[0;34m\u001b[0m\u001b[0m\n\u001b[0;32m--> 555\u001b[0;31m                 \u001b[0;32mreturn\u001b[0m \u001b[0mf\u001b[0m\u001b[0;34m(\u001b[0m\u001b[0;34m*\u001b[0m\u001b[0margs\u001b[0m\u001b[0;34m,\u001b[0m \u001b[0;34m**\u001b[0m\u001b[0mkwargs\u001b[0m\u001b[0;34m)\u001b[0m\u001b[0;34m\u001b[0m\u001b[0;34m\u001b[0m\u001b[0m\n\u001b[0m\u001b[1;32m    556\u001b[0m             \u001b[0;31m# restore to default\u001b[0m\u001b[0;34m\u001b[0m\u001b[0;34m\u001b[0m\u001b[0;34m\u001b[0m\u001b[0m\n\u001b[1;32m    557\u001b[0m             \u001b[0;32mfinally\u001b[0m\u001b[0;34m:\u001b[0m\u001b[0;34m\u001b[0m\u001b[0;34m\u001b[0m\u001b[0m\n",
      "\u001b[0;32m~/miniconda3/envs/exovetter/lib/python3.7/site-packages/lightkurve/search.py\u001b[0m in \u001b[0;36mdownload\u001b[0;34m(self, quality_bitmask, download_dir, cutout_size, **kwargs)\u001b[0m\n\u001b[1;32m    358\u001b[0m             \u001b[0mdownload_dir\u001b[0m\u001b[0;34m=\u001b[0m\u001b[0mdownload_dir\u001b[0m\u001b[0;34m,\u001b[0m\u001b[0;34m\u001b[0m\u001b[0;34m\u001b[0m\u001b[0m\n\u001b[1;32m    359\u001b[0m             \u001b[0mcutout_size\u001b[0m\u001b[0;34m=\u001b[0m\u001b[0mcutout_size\u001b[0m\u001b[0;34m,\u001b[0m\u001b[0;34m\u001b[0m\u001b[0;34m\u001b[0m\u001b[0m\n\u001b[0;32m--> 360\u001b[0;31m             \u001b[0;34m**\u001b[0m\u001b[0mkwargs\u001b[0m\u001b[0;34m,\u001b[0m\u001b[0;34m\u001b[0m\u001b[0;34m\u001b[0m\u001b[0m\n\u001b[0m\u001b[1;32m    361\u001b[0m         )\n\u001b[1;32m    362\u001b[0m \u001b[0;34m\u001b[0m\u001b[0m\n",
      "\u001b[0;32m~/miniconda3/envs/exovetter/lib/python3.7/site-packages/lightkurve/search.py\u001b[0m in \u001b[0;36m_download_one\u001b[0;34m(self, table, quality_bitmask, download_dir, cutout_size, **kwargs)\u001b[0m\n\u001b[1;32m    243\u001b[0m                         \u001b[0;34m\"The TESS FFI cutout service at MAST appears \"\u001b[0m\u001b[0;34m\u001b[0m\u001b[0;34m\u001b[0m\u001b[0m\n\u001b[1;32m    244\u001b[0m                         \u001b[0;34m\"to be temporarily unavailable. It returned \"\u001b[0m\u001b[0;34m\u001b[0m\u001b[0;34m\u001b[0m\u001b[0m\n\u001b[0;32m--> 245\u001b[0;31m                         \u001b[0;34m\"the following error: {}\"\u001b[0m\u001b[0;34m.\u001b[0m\u001b[0mformat\u001b[0m\u001b[0;34m(\u001b[0m\u001b[0mexc\u001b[0m\u001b[0;34m)\u001b[0m\u001b[0;34m\u001b[0m\u001b[0;34m\u001b[0m\u001b[0m\n\u001b[0m\u001b[1;32m    246\u001b[0m                     )\n\u001b[1;32m    247\u001b[0m                 \u001b[0;32melse\u001b[0m\u001b[0;34m:\u001b[0m\u001b[0;34m\u001b[0m\u001b[0;34m\u001b[0m\u001b[0m\n",
      "\u001b[0;31mHTTPError\u001b[0m: The TESS FFI cutout service at MAST appears to be temporarily unavailable. It returned the following error: 504 Server Error: Gateway Time-out for url: https://mast.stsci.edu/tesscut/api/v0.1/sector"
     ]
    }
   ],
   "source": [
    "#Get lightkurve and targetpixel file for t\n",
    "ticid = \"TIC 120251825\"\n",
    "sector = 14\n",
    "tcedf = qlp_df.query('tic == @ticid & sector == @sector')\n",
    "print(tcedf)\n",
    "alc, atpf = get_lk(tcedf.iloc[1])"
   ]
  },
  {
   "cell_type": "code",
   "execution_count": null,
   "id": "126e1904-6992-44a2-a540-22d9124a840c",
   "metadata": {},
   "outputs": [],
   "source": [
    "atce = make_tce(tcedf.iloc[0])\n",
    "vet_tce(atce, alc, atpf)"
   ]
  },
  {
   "cell_type": "code",
   "execution_count": null,
   "id": "c36511e9-b5d6-4d8f-90ba-664283912a2c",
   "metadata": {},
   "outputs": [],
   "source": []
  }
 ],
 "metadata": {
  "kernelspec": {
   "display_name": "Python 3",
   "language": "python",
   "name": "python3"
  },
  "language_info": {
   "codemirror_mode": {
    "name": "ipython",
    "version": 3
   },
   "file_extension": ".py",
   "mimetype": "text/x-python",
   "name": "python",
   "nbconvert_exporter": "python",
   "pygments_lexer": "ipython3",
   "version": "3.7.10"
  }
 },
 "nbformat": 4,
 "nbformat_minor": 5
}
