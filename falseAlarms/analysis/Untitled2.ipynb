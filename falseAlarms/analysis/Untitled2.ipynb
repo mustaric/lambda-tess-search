{
 "cells": [
  {
   "cell_type": "code",
   "execution_count": 1,
   "id": "d5fbf0f7-eebe-4b3e-b2c5-8cfd325e6d0d",
   "metadata": {},
   "outputs": [],
   "source": [
    "import PyQt5"
   ]
  },
  {
   "cell_type": "code",
   "execution_count": 4,
   "id": "29c815bf-b5ae-4a6e-ac88-7ff298382345",
   "metadata": {},
   "outputs": [
    {
     "ename": "AttributeError",
     "evalue": "module 'PyQt5' has no attribute 'QtCore'",
     "output_type": "error",
     "traceback": [
      "\u001b[0;31m---------------------------------------------------------------------------\u001b[0m",
      "\u001b[0;31mAttributeError\u001b[0m                            Traceback (most recent call last)",
      "\u001b[0;32m<ipython-input-4-a9e0d3e12f10>\u001b[0m in \u001b[0;36m<module>\u001b[0;34m\u001b[0m\n\u001b[0;32m----> 1\u001b[0;31m \u001b[0mx\u001b[0m \u001b[0;34m=\u001b[0m \u001b[0mPyQt5\u001b[0m\u001b[0;34m.\u001b[0m\u001b[0mQtCore\u001b[0m\u001b[0;34m.\u001b[0m\u001b[0mQtWidget\u001b[0m\u001b[0;34m\u001b[0m\u001b[0;34m\u001b[0m\u001b[0m\n\u001b[0m",
      "\u001b[0;31mAttributeError\u001b[0m: module 'PyQt5' has no attribute 'QtCore'"
     ]
    }
   ],
   "source": [
    "x = PyQt5.QtWidget"
   ]
  },
  {
   "cell_type": "code",
   "execution_count": 6,
   "id": "00c12f73-53c7-475f-84ae-589a1aa7e076",
   "metadata": {},
   "outputs": [
    {
     "data": {
      "text/plain": [
       "'/Users/smullally/miniconda3/envs/exovetter/lib/python3.7/site-packages/PyQt5/__init__.py'"
      ]
     },
     "execution_count": 6,
     "metadata": {},
     "output_type": "execute_result"
    }
   ],
   "source": [
    "PyQt5.__file__"
   ]
  },
  {
   "cell_type": "code",
   "execution_count": null,
   "id": "6c97b56b-928f-4a7c-883b-2d4dc7c7671d",
   "metadata": {},
   "outputs": [],
   "source": []
  }
 ],
 "metadata": {
  "kernelspec": {
   "display_name": "Python 3",
   "language": "python",
   "name": "python3"
  },
  "language_info": {
   "codemirror_mode": {
    "name": "ipython",
    "version": 3
   },
   "file_extension": ".py",
   "mimetype": "text/x-python",
   "name": "python",
   "nbconvert_exporter": "python",
   "pygments_lexer": "ipython3",
   "version": "3.7.10"
  }
 },
 "nbformat": 4,
 "nbformat_minor": 5
}
